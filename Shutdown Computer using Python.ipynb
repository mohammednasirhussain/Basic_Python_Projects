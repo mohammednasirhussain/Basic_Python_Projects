{
 "cells": [
  {
   "cell_type": "code",
   "execution_count": 1,
   "id": "44c3bdcc",
   "metadata": {},
   "outputs": [
    {
     "name": "stdout",
     "output_type": "stream",
     "text": [
      "a = 10\n",
      "b =  8\n",
      "a =  10\n",
      "b =  8\n"
     ]
    }
   ],
   "source": [
    "#Shutdown Computer using Python\n",
    "\n",
    "#The OS module in Python is used in various tasks that depend on the operating system. \n",
    "#You must have used it before when writing or reading files from your computer to your Python program. \n",
    "#It can also be used to shutdown your computer in just a few lines of code. \n",
    "#If you want to learn more about shutting down your system using the OS module\n",
    "\n",
    "#To shutdown your system using the Python programming language, you must have some knowledge of the OS module in Python. \n",
    "#It comes preinstalled in the Python standard library, so you don’t need to write a pip command to install it on \n",
    "#your Python environment. From reading or writing a file to shut down your system using Python, \n",
    "#the OS module can be used in any task that depends on your system’s operating system.\n",
    "\n",
    "#To shutdown your computer with Python, be sure to save and close all running files.\n",
    "\n",
    "import os\n",
    "def shutdown_PC():\n",
    "    os.system(\"shutdown /s /t 1\")\n",
    "shutdown_PC()\n",
    "\n",
    "#make sure you have saved and closed all files except your code editor where you wrote the Python program \n",
    "#to shutdown your system. As soon as your program starts running, your system will shut down in the next few seconds."
   ]
  },
  {
   "cell_type": "code",
   "execution_count": null,
   "id": "e0070732",
   "metadata": {},
   "outputs": [],
   "source": []
  },
  {
   "cell_type": "code",
   "execution_count": null,
   "id": "bbfb19c7",
   "metadata": {},
   "outputs": [],
   "source": []
  }
 ],
 "metadata": {
  "kernelspec": {
   "display_name": "Python 3 (ipykernel)",
   "language": "python",
   "name": "python3"
  },
  "language_info": {
   "codemirror_mode": {
    "name": "ipython",
    "version": 3
   },
   "file_extension": ".py",
   "mimetype": "text/x-python",
   "name": "python",
   "nbconvert_exporter": "python",
   "pygments_lexer": "ipython3",
   "version": "3.9.13"
  }
 },
 "nbformat": 4,
 "nbformat_minor": 5
}
