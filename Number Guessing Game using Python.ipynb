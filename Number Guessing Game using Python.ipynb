{
 "cells": [
  {
   "cell_type": "code",
   "execution_count": 1,
   "id": "fb6d2eb6",
   "metadata": {},
   "outputs": [
    {
     "name": "stdout",
     "output_type": "stream",
     "text": [
      "Enter any number: 5\n",
      "Too high!\n",
      "Enter number again: 3\n",
      "Too high!\n",
      "Enter number again: 2\n",
      "you guessed it right!!\n"
     ]
    }
   ],
   "source": [
    "#Number Guessing Game using Python\n",
    "#The number guessing game is a popular game among programmers. \n",
    "#In the number guessing game, the program selects a random number between two numbers, and the user guesses the correct number.\n",
    "\n",
    "#To create a guessing game, we need to write a program to select a random number between 1 and 10. \n",
    "#To give hints to the user, we can use conditional statements to tell the user if the guessed number is smaller, \n",
    "#greater than or equal to the randomly selected number.\n",
    "import random\n",
    "n = random.randrange(1,10)\n",
    "guess = int(input(\"Enter any number: \"))\n",
    "while n!= guess:\n",
    "    if guess < n:\n",
    "        print(\"Too low\")\n",
    "        guess = int(input(\"Enter number again: \"))\n",
    "    elif guess > n:\n",
    "        print(\"Too high!\")\n",
    "        guess = int(input(\"Enter number again: \"))\n",
    "    else:\n",
    "      break\n",
    "print(\"you guessed it right!!\")\n",
    "\n",
    "#If the guessed number is lower than the randomly selected number, the user will see “too low”. \n",
    "#If the guessed number is higher than the randomly selected number, the user will see “too high”. \n",
    "#When the user guesses the correct number, “you guessed it right!!” will be displayed in the output."
   ]
  },
  {
   "cell_type": "code",
   "execution_count": null,
   "id": "4e8669a5",
   "metadata": {},
   "outputs": [],
   "source": []
  },
  {
   "cell_type": "code",
   "execution_count": null,
   "id": "bfbcf784",
   "metadata": {},
   "outputs": [],
   "source": []
  }
 ],
 "metadata": {
  "kernelspec": {
   "display_name": "Python 3 (ipykernel)",
   "language": "python",
   "name": "python3"
  },
  "language_info": {
   "codemirror_mode": {
    "name": "ipython",
    "version": 3
   },
   "file_extension": ".py",
   "mimetype": "text/x-python",
   "name": "python",
   "nbconvert_exporter": "python",
   "pygments_lexer": "ipython3",
   "version": "3.9.13"
  }
 },
 "nbformat": 4,
 "nbformat_minor": 5
}
