{
 "cells": [
  {
   "cell_type": "code",
   "execution_count": 1,
   "id": "44c3bdcc",
   "metadata": {},
   "outputs": [
    {
     "name": "stdout",
     "output_type": "stream",
     "text": [
      "{'H': 2, 'e': 3, 'l': 2, 'o': 2, ' ': 6, 'm': 4, 'y': 1, 'n': 2, 'a': 3, 'i': 2, 's': 3, 'M': 2, 'r': 1, '.': 1, 'h': 1, 'd': 1, 'u': 1}\n",
      "None\n"
     ]
    }
   ],
   "source": [
    "#Count Character Occurrences using Python\n",
    "\n",
    "#Counting occurrences of a character in a string means counting all substrings of a character from the input string.\n",
    "\n",
    "#To count the occurrences of a character, we need to write an algorithm that returns the number of times \n",
    "#each character appears in the input string. The algorithm must iterate through each character from \n",
    "#the beginning to count the number of times each character appears in the string.\n",
    "\n",
    "def count_characters(s):\n",
    "    count = {}\n",
    "    for i in s:\n",
    "        if i in count:\n",
    "            count[i] += 1\n",
    "        else:\n",
    "            count[i] = 1\n",
    "    print(count)\n",
    "print(count_characters(\"Hello my name is Mr. Mohammed Hussain\"))\n",
    "\n",
    "#In the code above, we step through each character in the input string. If the character is already present in the string, \n",
    "#we simply increment the value of the character by 1 and so on. Otherwise,\n",
    "#we just add the character in the dictionary and set it to 1. In the end, \n",
    "#we get a dictionary with the characters as keys and their values as the number of times they appeared in the string."
   ]
  },
  {
   "cell_type": "code",
   "execution_count": null,
   "id": "e0070732",
   "metadata": {},
   "outputs": [],
   "source": []
  },
  {
   "cell_type": "code",
   "execution_count": null,
   "id": "bbfb19c7",
   "metadata": {},
   "outputs": [],
   "source": []
  }
 ],
 "metadata": {
  "kernelspec": {
   "display_name": "Python 3 (ipykernel)",
   "language": "python",
   "name": "python3"
  },
  "language_info": {
   "codemirror_mode": {
    "name": "ipython",
    "version": 3
   },
   "file_extension": ".py",
   "mimetype": "text/x-python",
   "name": "python",
   "nbconvert_exporter": "python",
   "pygments_lexer": "ipython3",
   "version": "3.9.13"
  }
 },
 "nbformat": 4,
 "nbformat_minor": 5
}
