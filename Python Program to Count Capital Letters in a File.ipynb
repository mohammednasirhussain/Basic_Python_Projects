{
 "cells": [
  {
   "cell_type": "code",
   "execution_count": 3,
   "id": "44c3bdcc",
   "metadata": {},
   "outputs": [
    {
     "ename": "FileNotFoundError",
     "evalue": "[Errno 2] No such file or directory: 'sample2.txt'",
     "output_type": "error",
     "traceback": [
      "\u001b[1;31m---------------------------------------------------------------------------\u001b[0m",
      "\u001b[1;31mFileNotFoundError\u001b[0m                         Traceback (most recent call last)",
      "\u001b[1;32m~\\AppData\\Local\\Temp\\ipykernel_8692\\4261093147.py\u001b[0m in \u001b[0;36m<module>\u001b[1;34m\u001b[0m\n\u001b[0;32m      4\u001b[0m \u001b[1;31m#print the number of capital or lowercase letters in the text file.\u001b[0m\u001b[1;33m\u001b[0m\u001b[1;33m\u001b[0m\u001b[0m\n\u001b[0;32m      5\u001b[0m \u001b[1;33m\u001b[0m\u001b[0m\n\u001b[1;32m----> 6\u001b[1;33m \u001b[1;32mwith\u001b[0m \u001b[0mopen\u001b[0m\u001b[1;33m(\u001b[0m\u001b[1;34m\"sample2.txt\"\u001b[0m\u001b[1;33m)\u001b[0m \u001b[1;32mas\u001b[0m \u001b[0mfile\u001b[0m\u001b[1;33m:\u001b[0m\u001b[1;33m\u001b[0m\u001b[1;33m\u001b[0m\u001b[0m\n\u001b[0m\u001b[0;32m      7\u001b[0m     \u001b[0mcount\u001b[0m \u001b[1;33m=\u001b[0m \u001b[1;36m0\u001b[0m\u001b[1;33m\u001b[0m\u001b[1;33m\u001b[0m\u001b[0m\n\u001b[0;32m      8\u001b[0m     \u001b[0mtext\u001b[0m \u001b[1;33m=\u001b[0m \u001b[0mfile\u001b[0m\u001b[1;33m.\u001b[0m\u001b[0mread\u001b[0m\u001b[1;33m(\u001b[0m\u001b[1;33m)\u001b[0m\u001b[1;33m\u001b[0m\u001b[1;33m\u001b[0m\u001b[0m\n",
      "\u001b[1;31mFileNotFoundError\u001b[0m: [Errno 2] No such file or directory: 'sample2.txt'"
     ]
    }
   ],
   "source": [
    "#Python Program to Count Capital Letters in a File\n",
    "\n",
    "#You will be given a text file, and you will be asked to read the file without using a Python library and \n",
    "#print the number of capital or lowercase letters in the text file.\n",
    "\n",
    "with open(\"sample2.txt\") as file:\n",
    "    count = 0\n",
    "    text = file.read()\n",
    "    for i in text:\n",
    "        if i.isupper():\n",
    "            count += 1\n",
    "    print(count)\n",
    "    \n",
    "    \n",
    "#In the code above:\n",
    "\n",
    "# 1. I first opened a text file that was already saved on my computer\n",
    "# 2. Then I introduced a variable as count, which is used here to store the number of uppercase letters. \n",
    "# 3. Initially, I declared its value to be 0, and in the next line, I am reading the text file\n",
    "# 4. Then I am using a for loop over the content of the text file and using the if statement inside the for loop which will keep adding 1 to the count variable until it keeps finding uppercase letters in the file using the isupper() function in Python.\n",
    "# 5. Just like the above method, you can write a python program for counting small letters also by replacing the isupper() function with islower() as shown in the code below:\n",
    "\n",
    "\n",
    "with open(\"text.txt\") as file:\n",
    "    count = 0\n",
    "    text = file.read()\n",
    "    for i in text:\n",
    "        if i.islower():\n",
    "            count += 1\n",
    "    print(count)"
   ]
  },
  {
   "cell_type": "code",
   "execution_count": null,
   "id": "e0070732",
   "metadata": {},
   "outputs": [],
   "source": []
  },
  {
   "cell_type": "code",
   "execution_count": null,
   "id": "bbfb19c7",
   "metadata": {},
   "outputs": [],
   "source": []
  }
 ],
 "metadata": {
  "kernelspec": {
   "display_name": "Python 3 (ipykernel)",
   "language": "python",
   "name": "python3"
  },
  "language_info": {
   "codemirror_mode": {
    "name": "ipython",
    "version": 3
   },
   "file_extension": ".py",
   "mimetype": "text/x-python",
   "name": "python",
   "nbconvert_exporter": "python",
   "pygments_lexer": "ipython3",
   "version": "3.9.13"
  }
 },
 "nbformat": 4,
 "nbformat_minor": 5
}
