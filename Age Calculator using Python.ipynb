{
 "cells": [
  {
   "cell_type": "code",
   "execution_count": 2,
   "id": "44c3bdcc",
   "metadata": {},
   "outputs": [
    {
     "name": "stdout",
     "output_type": "stream",
     "text": [
      "26\n"
     ]
    }
   ],
   "source": [
    "#Age Calculator using Python\n",
    "\n",
    "#Age Calculator is an amazing coding project idea for beginners. \n",
    "#If you are new to any programming language, you should try making an age calculator. \n",
    "#It is an application where a user enters his date of birth as an input, and the application gives his age as an output.\n",
    "\n",
    "#Age Calculator is an amazing application to create as a beginner in any programming language. \n",
    "#To create an age calculator, you need two dates:\n",
    "\n",
    "# 1. today’s date\n",
    "# 2. date of birth\n",
    "#You can either ask the user for both dates or just ask for the date of birth and use today’s date from the computer itself.\n",
    "#Asking for the birthday only seems like a more user-friendly option.\n",
    "\n",
    "def ageCalculator(y, m, d):\n",
    "    import datetime\n",
    "    today = datetime.datetime.now().date()\n",
    "    dob = datetime.date(y, m, d)\n",
    "    age = int((today-dob).days / 365.25)\n",
    "    print(age)\n",
    "ageCalculator(1997, 3, 18)\n",
    "\n",
    "\n",
    "#In the above code:\n",
    "\n",
    "#I have first defined a Python function where I am asking for three user inputs:\n",
    "#y: year of birth \n",
    "#m: month of birth \n",
    "#d: date of birth\n",
    "#Then I am importing the datetime module in Python inside the function\n",
    "#Then in the next line, I am taking today’s date by using the datetime.now() method of the datetime module\n",
    "#Then I have introduced a new variable in the next line as dob, where I am using the date of birth as the input given by the user\n",
    "#Then I am subtracting the dob with today’s date and then dividing it by 365.25 which is returning the age of the user."
   ]
  },
  {
   "cell_type": "code",
   "execution_count": null,
   "id": "e0070732",
   "metadata": {},
   "outputs": [],
   "source": []
  }
 ],
 "metadata": {
  "kernelspec": {
   "display_name": "Python 3 (ipykernel)",
   "language": "python",
   "name": "python3"
  },
  "language_info": {
   "codemirror_mode": {
    "name": "ipython",
    "version": 3
   },
   "file_extension": ".py",
   "mimetype": "text/x-python",
   "name": "python",
   "nbconvert_exporter": "python",
   "pygments_lexer": "ipython3",
   "version": "3.9.13"
  }
 },
 "nbformat": 4,
 "nbformat_minor": 5
}
