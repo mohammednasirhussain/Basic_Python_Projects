{
 "cells": [
  {
   "cell_type": "code",
   "execution_count": 2,
   "id": "44c3bdcc",
   "metadata": {},
   "outputs": [
    {
     "name": "stdout",
     "output_type": "stream",
     "text": [
      "20.2\n",
      "20.0\n",
      "20\n"
     ]
    }
   ],
   "source": [
    "#Mean Median and Mode using Python\n",
    "\n",
    "#Mean, Median and Mode are the fundamentals of statistics used in almost every domain where we deal with numbers. \n",
    "#Python is one of the best programming languages for numerical calculations. \n",
    "#So you should know how to calculate mean, median and mode using Python without using any built-in Python library or module.\n",
    "\n",
    "#The mean is the average value of all the values in a dataset. To calculate the mean value of a dataset, \n",
    "#we first need to find the sum of all the values and then divide the sum of all the values by the total number of values. \n",
    "#So here’s how to calculate the mean using Python:\n",
    "\n",
    "list1 = [12, 16, 20, 20, 12, 30, 25, 23, 24, 20]\n",
    "mean = sum(list1)/len(list1)\n",
    "print(mean)\n",
    "\n",
    "\n",
    "#The Median is the middle value among all the values in sorted order. Here we need to calculate the mid-value of all the values in a dataset. \n",
    "#But before calculating the Median, we need to arrange all the values in sorted order. There are two different ways of calculating the median value:\n",
    "\n",
    "# 1. when the total number of values is even: Median  = [(n/2)th term + {(n/2)+1}th]/2\n",
    "# 2. when the total number of values is odd: Median = {(n+1)/2}thterm\n",
    "\n",
    "list1 = [12, 16, 20, 20, 12, 30, 25, 23, 24, 20]\n",
    "list1.sort()\n",
    "\n",
    "if len(list1) % 2 == 0:\n",
    "    m1 = list1[len(list1)//2]\n",
    "    m2 = list1[len(list1)//2 - 1]\n",
    "    median = (m1 + m2)/2\n",
    "else:\n",
    "    median = list1[len(list1)//2]\n",
    "print(median)\n",
    "\n",
    "\n",
    "#Mode is the most frequently occurring value among all the values.\n",
    "list1 = [12, 16, 20, 20, 12, 30, 25, 23, 24, 20]\n",
    "frequency = {}\n",
    "for i in list1:\n",
    "    frequency.setdefault(i, 0)\n",
    "    frequency[i]+=1\n",
    "\n",
    "frequent = max(frequency.values())\n",
    "for i, j in frequency.items():\n",
    "    if j == frequent:\n",
    "        mode = i\n",
    "print(mode)"
   ]
  },
  {
   "cell_type": "code",
   "execution_count": null,
   "id": "e0070732",
   "metadata": {},
   "outputs": [],
   "source": []
  }
 ],
 "metadata": {
  "kernelspec": {
   "display_name": "Python 3 (ipykernel)",
   "language": "python",
   "name": "python3"
  },
  "language_info": {
   "codemirror_mode": {
    "name": "ipython",
    "version": 3
   },
   "file_extension": ".py",
   "mimetype": "text/x-python",
   "name": "python",
   "nbconvert_exporter": "python",
   "pygments_lexer": "ipython3",
   "version": "3.9.13"
  }
 },
 "nbformat": 4,
 "nbformat_minor": 5
}
