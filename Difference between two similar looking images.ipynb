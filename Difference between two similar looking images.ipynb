{
 "cells": [
  {
   "cell_type": "code",
   "execution_count": 1,
   "id": "8c2126c7",
   "metadata": {},
   "outputs": [],
   "source": [
    "#By using PIL(Python Imaging Library)Module we are importing Image and ImageChops\n",
    "from PIL import Image, ImageChops\n",
    "\n",
    "#Reading Images by using Image.open() function from PIL and storing in variables\n",
    "img1, img2=Image.open(\"C:/Users/Dell/Documents/Python Scripts/1.jpg\"), Image.open(\"C:/Users/Dell/Documents/Python Scripts/2.jpg\")\n",
    "\n",
    "#ImageChops.difference() is a function from the Python Imaging Library (PIL) that compares \n",
    "#two images pixel by pixel and generates a new image that shows the difference between them.\n",
    "diff=ImageChops.difference(img1, img2)\n",
    "\n",
    "#The difference() function subtracts the pixel values of img2 from img1, \n",
    "#and takes the absolute value of the difference for each pixel. \n",
    "#The resulting pixel values are then combined into a new image that shows the differences between the two images.\n",
    "\n",
    "\n",
    "#diff.getbbox() is a method of the Image class in the Python Imaging Library (PIL)\n",
    "#diff.getbbox(): checks if the difference image has any non-zero pixels (i.e. there are differences between img1 and img2).\n",
    "#If diff.getbbox() returns a non-empty bounding box tuple (i.e. there are non-zero pixels in the image), \n",
    "#then the diff.show() function is called to display the difference image. If diff.getbbox() returns None \n",
    "#(i.e. there are no differences between img1 and img2), then the difference image is not displayed.\n",
    "if diff.getbbox():\n",
    "    diff.show()"
   ]
  },
  {
   "cell_type": "code",
   "execution_count": null,
   "id": "9d8e9f9f",
   "metadata": {},
   "outputs": [],
   "source": []
  },
  {
   "cell_type": "code",
   "execution_count": null,
   "id": "664ae2cc",
   "metadata": {},
   "outputs": [],
   "source": []
  }
 ],
 "metadata": {
  "kernelspec": {
   "display_name": "Python 3 (ipykernel)",
   "language": "python",
   "name": "python3"
  },
  "language_info": {
   "codemirror_mode": {
    "name": "ipython",
    "version": 3
   },
   "file_extension": ".py",
   "mimetype": "text/x-python",
   "name": "python",
   "nbconvert_exporter": "python",
   "pygments_lexer": "ipython3",
   "version": "3.9.13"
  }
 },
 "nbformat": 4,
 "nbformat_minor": 5
}
