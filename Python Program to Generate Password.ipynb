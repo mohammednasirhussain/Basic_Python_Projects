{
 "cells": [
  {
   "cell_type": "code",
   "execution_count": 2,
   "id": "44c3bdcc",
   "metadata": {},
   "outputs": [
    {
     "name": "stdout",
     "output_type": "stream",
     "text": [
      "enter the length of password 16\n",
      "p!2bOcMj%wBPrJkx\n"
     ]
    }
   ],
   "source": [
    "#Python Program to Generate Password\n",
    "\n",
    "#To create a password with Python, we need to create a program that takes the length of the password and \n",
    "#generates a random password of the same length.\n",
    "\n",
    "#To write a Python program to create a password, declare a string of numbers + uppercase + lowercase + special characters. \n",
    "#Take a random sample of the string of a length given by the user:\n",
    "\n",
    "import random\n",
    "passlen = int(input(\"enter the length of password \"))\n",
    "s=\"abcdefghijklmnopqrstuvwxyz01234567890ABCDEFGHIJKLMNOPQRSTUVWXYZ!@#$%^&*()?\"\n",
    "p = \"\".join(random.sample(s,passlen ))\n",
    "print(p)\n",
    "\n",
    "#In the above code, I first imported the random module in Python, then I asked for user input for the length of the password.\n",
    "#Then I stored the letters, numbers and special characters that I want to be considered while generating a password. \n",
    "#Then I am doing a random sampling by joining the length of the password and the variable s, which will finally generate a random password."
   ]
  },
  {
   "cell_type": "code",
   "execution_count": null,
   "id": "e0070732",
   "metadata": {},
   "outputs": [],
   "source": []
  }
 ],
 "metadata": {
  "kernelspec": {
   "display_name": "Python 3 (ipykernel)",
   "language": "python",
   "name": "python3"
  },
  "language_info": {
   "codemirror_mode": {
    "name": "ipython",
    "version": 3
   },
   "file_extension": ".py",
   "mimetype": "text/x-python",
   "name": "python",
   "nbconvert_exporter": "python",
   "pygments_lexer": "ipython3",
   "version": "3.9.13"
  }
 },
 "nbformat": 4,
 "nbformat_minor": 5
}
