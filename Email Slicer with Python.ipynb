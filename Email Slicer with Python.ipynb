{
 "cells": [
  {
   "cell_type": "code",
   "execution_count": 1,
   "id": "44c3bdcc",
   "metadata": {},
   "outputs": [
    {
     "name": "stdout",
     "output_type": "stream",
     "text": [
      "Enter Your Email: nasirhussain116@gmail.com\n",
      "Your user name is 'nasirhussain116' and your domain is 'gmail.com'\n"
     ]
    }
   ],
   "source": [
    "#Email Slicer with Python\n",
    "\n",
    "#An Email slicer is a very useful program for separating the username and domain name of an email address.\n",
    "#To create an email slicer with Python, our task is to write a program that \n",
    "#can retrieve the username and the domain name of the email.\n",
    "\n",
    "#For example, look at the image below which shows the domain and username of “nasirhussain116@gmail.com”:\n",
    "#So we need to divide the email into two strings using ‘@’ as the separator.\n",
    "#Let’s see how to separate the email and domain name with Python:\n",
    "\n",
    "email = input(\"Enter Your Email: \").strip()\n",
    "username = email[:email.index(\"@\")]\n",
    "domain_name = email[email.index(\"@\")+1:]\n",
    "format_ = (f\"Your user name is '{username}' and your domain is '{domain_name}'\")\n",
    "print(format_)\n",
    "\n",
    "#The code above is very simple and easy to understand. We take user input and use the strip function at the same time \n",
    "#to remove white space if any. Then we are finding the index of ‘@’ symbol of the user input. \n",
    "#Then we store the index into a variable known as domain_name to split the email into two parts; the user name and the domain.\n"
   ]
  },
  {
   "cell_type": "code",
   "execution_count": null,
   "id": "e0070732",
   "metadata": {},
   "outputs": [],
   "source": []
  },
  {
   "cell_type": "code",
   "execution_count": null,
   "id": "bbfb19c7",
   "metadata": {},
   "outputs": [],
   "source": []
  }
 ],
 "metadata": {
  "kernelspec": {
   "display_name": "Python 3 (ipykernel)",
   "language": "python",
   "name": "python3"
  },
  "language_info": {
   "codemirror_mode": {
    "name": "ipython",
    "version": 3
   },
   "file_extension": ".py",
   "mimetype": "text/x-python",
   "name": "python",
   "nbconvert_exporter": "python",
   "pygments_lexer": "ipython3",
   "version": "3.9.13"
  }
 },
 "nbformat": 4,
 "nbformat_minor": 5
}
