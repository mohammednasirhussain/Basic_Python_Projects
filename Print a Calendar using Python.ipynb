{
 "cells": [
  {
   "cell_type": "code",
   "execution_count": 1,
   "id": "44c3bdcc",
   "metadata": {},
   "outputs": [
    {
     "name": "stdout",
     "output_type": "stream",
     "text": [
      "     April 2023\n",
      "Mo Tu We Th Fr Sa Su\n",
      "                1  2\n",
      " 3  4  5  6  7  8  9\n",
      "10 11 12 13 14 15 16\n",
      "17 18 19 20 21 22 23\n",
      "24 25 26 27 28 29 30\n",
      "\n"
     ]
    }
   ],
   "source": [
    "#Print a Calendar using Python\n",
    "\n",
    "#The calendar module in Python provides access to the calendar of any month of any year.\n",
    "#If you’ve never used this module before, this article is for you.\n",
    "\n",
    "#There are so many useful built-in modules in Python that can be used to fulfil your goal in a few lines of code. \n",
    "#One of these modules in Python is the calendar module which provides access to the calendar of any month of any year.\n",
    "#Anytime you want to show a calendar to a user, this Python module will come in handy.\n",
    "\n",
    "import calendar\n",
    "print(calendar.month(2023, 4))\n",
    "\n",
    "#I have first imported the calendar module in Python. Then I have used the print function to print the calendar of \n",
    "#September 2021 using the month function of the calendar module. You can also take user input as year and month, \n",
    "#then you can use the user inputs as parameters of the month function of the calendar module."
   ]
  },
  {
   "cell_type": "code",
   "execution_count": null,
   "id": "e0070732",
   "metadata": {},
   "outputs": [],
   "source": []
  },
  {
   "cell_type": "code",
   "execution_count": null,
   "id": "bbfb19c7",
   "metadata": {},
   "outputs": [],
   "source": []
  }
 ],
 "metadata": {
  "kernelspec": {
   "display_name": "Python 3 (ipykernel)",
   "language": "python",
   "name": "python3"
  },
  "language_info": {
   "codemirror_mode": {
    "name": "ipython",
    "version": 3
   },
   "file_extension": ".py",
   "mimetype": "text/x-python",
   "name": "python",
   "nbconvert_exporter": "python",
   "pygments_lexer": "ipython3",
   "version": "3.9.13"
  }
 },
 "nbformat": 4,
 "nbformat_minor": 5
}
