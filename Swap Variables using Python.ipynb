{
 "cells": [
  {
   "cell_type": "code",
   "execution_count": 1,
   "id": "44c3bdcc",
   "metadata": {},
   "outputs": [
    {
     "name": "stdout",
     "output_type": "stream",
     "text": [
      "a = 10\n",
      "b =  8\n",
      "a =  10\n",
      "b =  8\n"
     ]
    }
   ],
   "source": [
    "#Swap Variables using Python\n",
    "\n",
    "#Swapping variables means assigning the value of variable a to variable b and vice versa. \n",
    "#We have so many algorithms in computer science for swapping the values of two variables with each other\n",
    "\n",
    "#We have so many algorithms in computer science to swap variables but the easiest ones are:\n",
    "\n",
    "# 1. Swapping two variables by introducing another variable\n",
    "# 2. Swapping variables by simply assigning them to each other\n",
    "\n",
    "a = 8\n",
    "b = 10\n",
    "\n",
    "c = a\n",
    "a = b\n",
    "b = c\n",
    "print(\"a =\", a)\n",
    "print(\"b = \", b)\n",
    "\n",
    "#In the above code, I have first declared two variables as a = 8, and b = 10. \n",
    "#Then I am introducing another variable as c = a which means that I am assigning the value of a to c \n",
    "#then in the next line I assign the value of b to a. Till now we have c = a, and a = b, and b = 10. \n",
    "#So in the next line, I am assigning the value of c to b. In the end, we are left with a = 10, b = 8.\n",
    "\n",
    "#Now let’s see how to use the other method of swapping variables which is to swap the values of variables with each other \n",
    "#without introducing another variable. We cannot assign the values of variables to each other line by line as \n",
    "#we did in the above method, because if we write a = b in the first line and b = a, in the second line then \n",
    "#we will end up having a = 10, and b = 10, as in the first line we are assigning b to a which means \n",
    "#we are assigning 10 to a, then in the next line, we are assigning a to b i,e. 10 to b again. \n",
    "#So to swap two variables without introducing a new variable we have to swap them in one line only\n",
    "\n",
    "a = 8\n",
    "b = 10\n",
    "a, b = b, a\n",
    "print(\"a = \", a)\n",
    "print(\"b = \", b)"
   ]
  },
  {
   "cell_type": "code",
   "execution_count": null,
   "id": "e0070732",
   "metadata": {},
   "outputs": [],
   "source": []
  },
  {
   "cell_type": "code",
   "execution_count": null,
   "id": "bbfb19c7",
   "metadata": {},
   "outputs": [],
   "source": []
  }
 ],
 "metadata": {
  "kernelspec": {
   "display_name": "Python 3 (ipykernel)",
   "language": "python",
   "name": "python3"
  },
  "language_info": {
   "codemirror_mode": {
    "name": "ipython",
    "version": 3
   },
   "file_extension": ".py",
   "mimetype": "text/x-python",
   "name": "python",
   "nbconvert_exporter": "python",
   "pygments_lexer": "ipython3",
   "version": "3.9.13"
  }
 },
 "nbformat": 4,
 "nbformat_minor": 5
}
