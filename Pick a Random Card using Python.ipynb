{
 "cells": [
  {
   "cell_type": "code",
   "execution_count": 2,
   "id": "44c3bdcc",
   "metadata": {},
   "outputs": [
    {
     "name": "stdout",
     "output_type": "stream",
     "text": [
      "The [4] of ['Diamonds']\n"
     ]
    }
   ],
   "source": [
    "#Pick a Random Card using Python\n",
    "\n",
    "#There are so many card games today where you choose a card at random from a deck of cards to create an event. \n",
    "#This is the feature of every card game today because you have to choose a card at random and \n",
    "#once you choose a card it becomes an event.\n",
    "\n",
    "#To pick a random card using Python you first have to store all the cards in a data structure. \n",
    "#So before storing a card in a data structure let’s understand what types of cards are there in a deck of cards.\n",
    "\n",
    "#So according to the above table, a deck of cards have four sets of cards including hearts, clubs, spades and diamonds. \n",
    "#These sets of cards are known as suites, each suite has thirteen cards which starts from 2 to 10 and \n",
    "#then are continued with Jack, Queen, king and Ace in each suite.\n",
    "\n",
    "#So to pick a random card from a deck of cards, I will create two Python lists:\n",
    "\n",
    "# 1. one for storing the suits\n",
    "# 2. another for storing the ranks of cards\n",
    "\n",
    "import random\n",
    "cards = [\"Diamonds\", \"Spades\", \"Hearts\", \"Clubs\"]\n",
    "ranks = [2, 3, 4, 5, 6, 7, 8, 9, 10, \"Jack\", \"Queen\", \"King\", \"Ace\"]\n",
    "\n",
    "def pick_a_card():\n",
    "    card = random.choices(cards)\n",
    "    rank = random.choices(ranks)\n",
    "    return(f\"The {rank} of {card}\")\n",
    "\n",
    "print(pick_a_card())\n",
    "\n",
    "\n",
    "\n"
   ]
  },
  {
   "cell_type": "code",
   "execution_count": null,
   "id": "e0070732",
   "metadata": {},
   "outputs": [],
   "source": []
  },
  {
   "cell_type": "code",
   "execution_count": null,
   "id": "bbfb19c7",
   "metadata": {},
   "outputs": [],
   "source": []
  }
 ],
 "metadata": {
  "kernelspec": {
   "display_name": "Python 3 (ipykernel)",
   "language": "python",
   "name": "python3"
  },
  "language_info": {
   "codemirror_mode": {
    "name": "ipython",
    "version": 3
   },
   "file_extension": ".py",
   "mimetype": "text/x-python",
   "name": "python",
   "nbconvert_exporter": "python",
   "pygments_lexer": "ipython3",
   "version": "3.9.13"
  }
 },
 "nbformat": 4,
 "nbformat_minor": 5
}
