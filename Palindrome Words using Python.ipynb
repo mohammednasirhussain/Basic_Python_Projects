{
 "cells": [
  {
   "cell_type": "code",
   "execution_count": 4,
   "id": "44c3bdcc",
   "metadata": {},
   "outputs": [
    {
     "name": "stdout",
     "output_type": "stream",
     "text": [
      "Enter a sentence : My mom is great lol\n",
      "['mom', 'lol']\n"
     ]
    }
   ],
   "source": [
    "#Palindrome Words using Python\n",
    "\n",
    "#Palindromic words are those words that are read the same way when we read them from both rights and left ends. \n",
    "#For example, lol, mom, etc.\n",
    "\n",
    "#To find palindromic words using Python, we first need to remove the punctuation marks from the sentence, \n",
    "#then we need to move on to the rest of the conditions.\n",
    "\n",
    "def palindrome(sentence):\n",
    "    for i in (\",.'?/><}{{}}'\"):\n",
    "        sentence = sentence.replace(i, \"\")\n",
    "    palindrome = []\n",
    "    words = sentence.split(' ')\n",
    "    for word in words:\n",
    "        word = word.lower()\n",
    "        if word == word[::-1]:\n",
    "            palindrome.append(word)\n",
    "    return palindrome\n",
    "\n",
    "sentence = input(\"Enter a sentence : \")\n",
    "print(palindrome(sentence))"
   ]
  },
  {
   "cell_type": "code",
   "execution_count": null,
   "id": "e0070732",
   "metadata": {},
   "outputs": [],
   "source": []
  },
  {
   "cell_type": "code",
   "execution_count": null,
   "id": "bbfb19c7",
   "metadata": {},
   "outputs": [],
   "source": []
  }
 ],
 "metadata": {
  "kernelspec": {
   "display_name": "Python 3 (ipykernel)",
   "language": "python",
   "name": "python3"
  },
  "language_info": {
   "codemirror_mode": {
    "name": "ipython",
    "version": 3
   },
   "file_extension": ".py",
   "mimetype": "text/x-python",
   "name": "python",
   "nbconvert_exporter": "python",
   "pygments_lexer": "ipython3",
   "version": "3.9.13"
  }
 },
 "nbformat": 4,
 "nbformat_minor": 5
}
