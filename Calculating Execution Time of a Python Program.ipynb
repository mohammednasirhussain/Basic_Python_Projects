{
 "cells": [
  {
   "cell_type": "code",
   "execution_count": 14,
   "id": "44c3bdcc",
   "metadata": {},
   "outputs": [
    {
     "name": "stdout",
     "output_type": "stream",
     "text": [
      " AI\n",
      "Execution Time :  0.008008718490600586\n"
     ]
    }
   ],
   "source": [
    "#Calculating Execution Time of a Python Program\n",
    "\n",
    "#The execution or running time of the program indicates how quickly the output is delivered based on the algorithm you used to solve the problem.\n",
    "#To calculate the execution time of the program, we need to calculate the time taken by the program from its initiation to the final result.\n",
    "\n",
    "#It is important to calculate the execution time when working on a large project. \n",
    "#When working on a large project, we have several approaches in mind. \n",
    "#The best should be the one that takes the shortest execution time in all scenarios.\n",
    "\n",
    "#So to calculate the execution time of a Python program, we need to follow the steps mentioned below:\n",
    "\n",
    "#First, store the time of initiation of the program into a variable;\n",
    "#Write the Python program;\n",
    "#Store the end time of the program into a variable;\n",
    "#Subtract the time of initiation of the program from the end time of the program;\n",
    "\n",
    "\n",
    "from time import time\n",
    "start = time()\n",
    "\n",
    "# Python program to create acronyms\n",
    "word = \"Artificial Intelligence \"\n",
    "text = word.split()\n",
    "a = \" \"\n",
    "for i in text:\n",
    "    a = a+str(i[0]).upper()\n",
    "print(a)\n",
    "\n",
    "end = time()\n",
    "execution_time = end - start\n",
    "print(\"Execution Time : \", execution_time)"
   ]
  },
  {
   "cell_type": "code",
   "execution_count": null,
   "id": "e0070732",
   "metadata": {},
   "outputs": [],
   "source": []
  }
 ],
 "metadata": {
  "kernelspec": {
   "display_name": "Python 3 (ipykernel)",
   "language": "python",
   "name": "python3"
  },
  "language_info": {
   "codemirror_mode": {
    "name": "ipython",
    "version": 3
   },
   "file_extension": ".py",
   "mimetype": "text/x-python",
   "name": "python",
   "nbconvert_exporter": "python",
   "pygments_lexer": "ipython3",
   "version": "3.9.13"
  }
 },
 "nbformat": 4,
 "nbformat_minor": 5
}
