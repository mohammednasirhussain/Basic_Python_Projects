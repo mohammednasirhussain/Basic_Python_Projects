{
 "cells": [
  {
   "cell_type": "code",
   "execution_count": 2,
   "id": "44c3bdcc",
   "metadata": {},
   "outputs": [
    {
     "name": "stdout",
     "output_type": "stream",
     "text": [
      "Select Rock, Paper, or Scissor :scissor\n",
      "Player 2 selected:  scissor\n",
      "Tie\n"
     ]
    }
   ],
   "source": [
    "#Rock Paper Scissors Game using Python\n",
    "\n",
    "#Rock Paper Scissors is a hand game usually played between two people. \n",
    "#In this game, scissors can beat paper, paper can beat rock, and rock can beat scissors.\n",
    "\n",
    "#To create and play rock paper scissors, I will be using the if and elif statements in Python. \n",
    "#I will prepare this game to be played between two players. \n",
    "#Player-1 will be the user, and player-2 will be the computer. \n",
    "#Player one will manually select the rock paper or scissor, while player two will choose randomly. \n",
    "#So I will also use the random module in Python to create this game.\n",
    "\n",
    "#I hope you now have understood everything about the rock, paper, and scissors game and how I will create it. \n",
    "#Now, below is how we can write a Python script to create and play rock paper scissors using Python:\n",
    "\n",
    "import random\n",
    "\n",
    "player1 = input(\"Select Rock, Paper, or Scissor :\").lower()\n",
    "player2 = random.choice([\"Rock\", \"Paper\", \"Scissor\"]).lower()\n",
    "print(\"Player 2 selected: \", player2)\n",
    "\n",
    "if player1 == \"rock\" and player2 == \"paper\":\n",
    "    print(\"Player 2 Won\")\n",
    "elif player1 == \"paper\" and player2 == \"scissor\":\n",
    "    print(\"Player 2 Won\")\n",
    "elif player1 == \"scissor\" and player2 == \"rock\":\n",
    "    print(\"Player 2 Won\")\n",
    "elif player1 == player2:\n",
    "    print(\"Tie\")\n",
    "else:\n",
    "    print(\"Player 1 Won\")\n",
    "    \n",
    "    \n"
   ]
  },
  {
   "cell_type": "code",
   "execution_count": null,
   "id": "e0070732",
   "metadata": {},
   "outputs": [],
   "source": []
  }
 ],
 "metadata": {
  "kernelspec": {
   "display_name": "Python 3 (ipykernel)",
   "language": "python",
   "name": "python3"
  },
  "language_info": {
   "codemirror_mode": {
    "name": "ipython",
    "version": 3
   },
   "file_extension": ".py",
   "mimetype": "text/x-python",
   "name": "python",
   "nbconvert_exporter": "python",
   "pygments_lexer": "ipython3",
   "version": "3.9.13"
  }
 },
 "nbformat": 4,
 "nbformat_minor": 5
}
